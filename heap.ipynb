{
 "cells": [
  {
   "cell_type": "markdown",
   "metadata": {},
   "source": [
    "height starts from 0.\n",
    "Full binary tree: all nodes are filled \n",
    "\n",
    "complete binary tree: \n",
    "- each node has 0 or 2 nodes. \n",
    "- if represented in array form, there should be no empty spaces between nodes. \n",
    "- height of complete binary tree is always log(n)\n",
    "\n",
    "Heap:\n",
    "- Is a complete binary tree\n",
    "- every node has value higher than all its descendants (Max heap)\n",
    "\n",
    "heap sort takes O(nlogn)\n",
    "\n",
    "Heapify is the process of creating a heap:\n",
    "    - start from the leaf nodes, compare to descendants, if not heap then exchange\n",
    "    - heapify: O(n)\n",
    "    - create: O(log n)"
   ]
  },
  {
   "cell_type": "code",
   "execution_count": 54,
   "metadata": {},
   "outputs": [],
   "source": [
    "class heap:\n",
    "    arr = []\n",
    "    curr = 0\n",
    "    maxsize = 0\n",
    "    \n",
    "    def __init__(self,x:int):\n",
    "        self.maxsize = x\n",
    "        self.arr  = [None] * x\n",
    "    \n",
    "    def __init__(self,x:list()):\n",
    "        self.maxsize = len(x)\n",
    "        self.arr  = [None] * len(x)\n",
    "        self.addAll(x)\n",
    "    \n",
    "    \n",
    "    def insert(self,x):\n",
    "        if self.curr < self.maxsize:\n",
    "            self.arr[self.curr] = x\n",
    "            self.reheap(self.curr)     \n",
    "            self.curr += 1\n",
    "        else:\n",
    "            print(\"maxsize exceeded\")\n",
    "            \n",
    "    \n",
    "    def delete(self) -> int:\n",
    "        if self.curr > 0:\n",
    "            out = self.arr[0]\n",
    "            self.arr[0] = self.arr[self.curr-1]\n",
    "            self.arr[self.curr-1] = None\n",
    "            self.curr -=1\n",
    "            self.reheapTop(0)\n",
    "            return out\n",
    "        else:\n",
    "            print(\"Heap is Empty\")\n",
    "            return -1\n",
    "        \n",
    "    \n",
    "    def reheapTop(self,x):\n",
    "        left = self.getLeftChild(x)\n",
    "        right = self.getRightChild(x)\n",
    "        \n",
    "        if self.arr[left] >= self.arr[right] and self.arr[left] > self.arr[x]:\n",
    "            temp = self.arr[left]\n",
    "            self.arr[left] = self.arr[x]\n",
    "            self.arr[x] = temp\n",
    "            self.reheapTop(left)\n",
    "        elif self.arr[left] < self.arr[right] and self.arr[left] > self.arr[x]:\n",
    "            temp = self.arr[right]\n",
    "            self.arr[right] = self.arr[x]\n",
    "            self.arr[x] = temp\n",
    "            self.reheapTop(right)\n",
    "    \n",
    "    def reheap(self, x):\n",
    "        if x == 0:\n",
    "            return\n",
    "        else:\n",
    "            parent = self.getParent(x)\n",
    "            if self.arr[parent] < self.arr[x]:\n",
    "                temp = self.arr[parent]\n",
    "                self.arr[parent] = self.arr[x]\n",
    "                self.arr[x] = temp\n",
    "\n",
    "\n",
    "\n",
    "                self.reheap(parent)\n",
    "            \n",
    "    #helper functions    \n",
    "    \n",
    "    def getLeftChild(self, i):\n",
    "        return 2*i\n",
    "    \n",
    "    def getRightChild(self,i):\n",
    "        return 2*i+1\n",
    "    \n",
    "    def getParent(self,i):\n",
    "        return i//2\n",
    "    \n",
    "    def addAll(self, x: list()):\n",
    "        for ea in x:\n",
    "            print(ea,\"->\", self.arr)\n",
    "            self.insert(ea)\n",
    "    \n",
    "    def printAll(self):\n",
    "        print(self.arr)\n",
    "        \n"
   ]
  },
  {
   "cell_type": "code",
   "execution_count": 51,
   "metadata": {},
   "outputs": [
    {
     "name": "stdout",
     "output_type": "stream",
     "text": [
      "44 -> [None, None, None, None, None, None, None, None]\n",
      "30 -> [44, None, None, None, None, None, None, None]\n",
      "50 -> [44, 30, None, None, None, None, None, None]\n",
      "22 -> [50, 44, 30, None, None, None, None, None]\n",
      "60 -> [50, 44, 30, 22, None, None, None, None]\n",
      "55 -> [60, 50, 44, 22, 30, None, None, None]\n",
      "77 -> [60, 55, 50, 22, 30, 44, None, None]\n",
      "55 -> [77, 60, 50, 55, 30, 44, 22, None]\n",
      "[77, 60, 50, 55, 30, 44, 22, 55]\n"
     ]
    }
   ],
   "source": [
    "a = [44,30,50,22,60,55,77,55]\n",
    "h = heap(a)\n",
    "h.printAll()"
   ]
  },
  {
   "cell_type": "code",
   "execution_count": 52,
   "metadata": {},
   "outputs": [
    {
     "name": "stdout",
     "output_type": "stream",
     "text": [
      "77\n"
     ]
    }
   ],
   "source": [
    "print(h.delete())"
   ]
  },
  {
   "cell_type": "code",
   "execution_count": 53,
   "metadata": {},
   "outputs": [
    {
     "name": "stdout",
     "output_type": "stream",
     "text": [
      "[55, 60, 50, 55, 30, 44, 22, None]\n"
     ]
    }
   ],
   "source": [
    "h.printAll()"
   ]
  },
  {
   "cell_type": "code",
   "execution_count": null,
   "metadata": {},
   "outputs": [],
   "source": []
  }
 ],
 "metadata": {
  "kernelspec": {
   "display_name": "Python 3",
   "language": "python",
   "name": "python3"
  },
  "language_info": {
   "codemirror_mode": {
    "name": "ipython",
    "version": 3
   },
   "file_extension": ".py",
   "mimetype": "text/x-python",
   "name": "python",
   "nbconvert_exporter": "python",
   "pygments_lexer": "ipython3",
   "version": "3.7.4"
  }
 },
 "nbformat": 4,
 "nbformat_minor": 2
}
