{
 "cells": [
  {
   "cell_type": "markdown",
   "metadata": {},
   "source": [
    "https://www.datacamp.com/community/tutorials/exception-handling-python"
   ]
  },
  {
   "cell_type": "code",
   "execution_count": 2,
   "metadata": {},
   "outputs": [
    {
     "name": "stdout",
     "output_type": "stream",
     "text": [
      "hello\n",
      "no error occured\n",
      "run this at the end\n"
     ]
    }
   ],
   "source": [
    "try:\n",
    "    print(\"hello\")# run this code\n",
    "except: \n",
    "    print(\"error occured\")\n",
    "    # run this when exception happens:\n",
    "else:\n",
    "    print(\"no error occured\")\n",
    "    # run this if exception doesn't happen\n",
    "finally:\n",
    "    print(\"run this at the end\")\n",
    "    # always run this code\n",
    "    "
   ]
  },
  {
   "cell_type": "code",
   "execution_count": 3,
   "metadata": {},
   "outputs": [
    {
     "name": "stdout",
     "output_type": "stream",
     "text": [
      "error occured\n",
      "run this at the end\n"
     ]
    }
   ],
   "source": [
    "try:\n",
    "    print(a)# run this code\n",
    "except: \n",
    "    print(\"error occured\")\n",
    "    # run this when exception happens:\n",
    "else:\n",
    "    print(\"no error occured\")\n",
    "    # run this if exception doesn't happen\n",
    "finally:\n",
    "    print(\"run this at the end\")\n",
    "    # always run this code\n",
    "    "
   ]
  },
  {
   "cell_type": "markdown",
   "metadata": {},
   "source": [
    "## Error vs Exception:\n",
    "\n",
    "- Errors cannot be handled, while Python exceptions can be handled at the run time\n",
    "\n",
    "\n",
    "error can be a syntax (parsing) error, while there can be many types of exceptions that could occur during the execution and are not unconditionally inoperable. An Error might indicate critical problems that a reasonable application should not try to catch, while an Exception might indicate conditions that an application should try to catch. Errors are a form of an unchecked exception and are irrecoverable like an OutOfMemoryError, which a programmer should not try to handle.\n",
    "\n",
    "Error Types: \n",
    "- Syntax Error \n",
    "- Out of memory error\n",
    "- recursion error\n",
    "- exceptions\n",
    "\n",
    "\n",
    "### Memory errors \n",
    "mostly dependant on your systems RAM and is related to __HEAP__ if you have large objects or referenced objects in memory, you are likely to see out of memory error. \n",
    "\n",
    "likely causes: \n",
    "- Using a 32-bit Python Architecture (Maximum Memory Allocation given is very low, between 2GB - 4GB).\n",
    "- Loading a very large data file\n",
    "- Running a Machine Learning/Deep Learning model and many more.\n",
    "\n",
    "solution is to link a database. read in large data in chunks and right in to a database. then access the database. \n",
    "\n",
    "its not advisable to catch these error, since the recovered system might not work properly. \n",
    "\n",
    "### Recursion Error\n",
    "It is related to stack and occurs when you call functions. As the name suggests, recursion error transpires when too many methods, one inside another is executed (one with an infinite recursion), which is limited by the size of the stack.\n",
    "\n",
    "All your local variables and methods call associated data will be placed on the stack. For each method call, one stack frame will be created, and local as well as method call relevant data will be placed inside that stack frame. Once the method execution is completed, the stack frame will be removed.\n",
    "\n",
    "\n",
    "### Exceptions\n",
    "run time errors\n",
    "\n",
    "- type error: number + string\n",
    "- ZeroDivisionError \n",
    "- KeyboardInterrupt\n",
    "\n",
    "Standard Errors: \n",
    "- zero division \n",
    "- overflow error: the number is out of range of the supported range of numbers \n",
    "- assertion error: when an assert statement is failed. \n",
    "- attribute error: non-existent attribute is referenced\n",
    "- import error\n",
    "\n",
    "lookup errors act as a base class for the exceptions that occur when a key or index used on a mapping or sequence of a list/dictionary is invalid or does not exists.\n",
    "\n",
    "- IndexError\n",
    "- KeyError\n",
    "\n",
    "- name error: when a local or global name is not found\n",
    "As studied in the previous section of the tutorial, Python has many built-in exceptions that you can use in your program. Still, sometimes, you may need to create custom exceptions with custom messages to serve your purpose.\n",
    "\n",
    "You can achieve this by creating a new class, which will be derived from the pre-defined Exception class in Python."
   ]
  },
  {
   "cell_type": "code",
   "execution_count": 4,
   "metadata": {},
   "outputs": [
    {
     "name": "stdout",
     "output_type": "stream",
     "text": [
      "Enter Total Marks Scored: 10\n",
      "Enter Num of Sections: 0\n",
      "Received error: Number of Sections can't be less than 1\n"
     ]
    }
   ],
   "source": [
    "class UnAcceptedValueError(Exception):   \n",
    "    def __init__(self, data):    \n",
    "        self.data = data\n",
    "    def __str__(self):\n",
    "        return repr(self.data)\n",
    "\n",
    "Total_Marks = int(input(\"Enter Total Marks Scored: \"))\n",
    "try:\n",
    "    Num_of_Sections = int(input(\"Enter Num of Sections: \"))\n",
    "    if(Num_of_Sections < 1):\n",
    "        raise UnAcceptedValueError(\"Number of Sections can't be less than 1\")\n",
    "except UnAcceptedValueError as e:\n",
    "    print (\"Received error:\", e.data)"
   ]
  },
  {
   "cell_type": "code",
   "execution_count": null,
   "metadata": {},
   "outputs": [],
   "source": []
  }
 ],
 "metadata": {
  "kernelspec": {
   "display_name": "Python 3",
   "language": "python",
   "name": "python3"
  },
  "language_info": {
   "codemirror_mode": {
    "name": "ipython",
    "version": 3
   },
   "file_extension": ".py",
   "mimetype": "text/x-python",
   "name": "python",
   "nbconvert_exporter": "python",
   "pygments_lexer": "ipython3",
   "version": "3.7.4"
  }
 },
 "nbformat": 4,
 "nbformat_minor": 2
}
