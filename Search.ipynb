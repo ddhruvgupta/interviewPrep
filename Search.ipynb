{
 "cells": [
  {
   "cell_type": "code",
   "execution_count": 57,
   "metadata": {},
   "outputs": [],
   "source": [
    "arr = [60,100,105,88,98,77,12,16,0,25,] "
   ]
  },
  {
   "cell_type": "code",
   "execution_count": 58,
   "metadata": {},
   "outputs": [],
   "source": [
    "inp = sorted(arr)"
   ]
  },
  {
   "cell_type": "code",
   "execution_count": 59,
   "metadata": {},
   "outputs": [
    {
     "name": "stdout",
     "output_type": "stream",
     "text": [
      "0 9 4\n",
      "5 9 7\n"
     ]
    },
    {
     "data": {
      "text/plain": [
       "7"
      ]
     },
     "execution_count": 59,
     "metadata": {},
     "output_type": "execute_result"
    }
   ],
   "source": [
    "#iterative Binary search \n",
    "\n",
    "def binarySearch(i,arr):\n",
    "    left = 0 \n",
    "    right = len(arr)-1\n",
    "    while(left <= right):\n",
    "        mid = left + (right - left)//2\n",
    "\n",
    "        \n",
    "        print(left,right, mid)\n",
    "        \n",
    "        if arr[mid] == i:\n",
    "            return mid\n",
    "        elif arr[mid] > i:\n",
    "            right = mid - 1\n",
    "        elif arr[mid] < i:\n",
    "            left =  mid + 1\n",
    "            \n",
    "    \n",
    "    return -1 \n",
    "\n",
    "binarySearch(98,inp)"
   ]
  },
  {
   "cell_type": "code",
   "execution_count": 60,
   "metadata": {},
   "outputs": [],
   "source": [
    "def binarySearch_Rec(arr, key, low, high ):\n",
    "    mid = low + (high-low)//2\n",
    "    print(low,high, mid)\n",
    "        \n",
    "    if high < low:\n",
    "        return -1\n",
    "    elif arr[mid] == key:\n",
    "        return mid\n",
    "    elif arr[mid] > key:\n",
    "        return binarySearch_Rec(arr, key, low, mid-1)\n",
    "    elif arr[mid] < key:\n",
    "        return binarySearch_Rec(arr, key, mid+1, high)\n",
    "    \n",
    "    "
   ]
  },
  {
   "cell_type": "code",
   "execution_count": 62,
   "metadata": {},
   "outputs": [
    {
     "name": "stdout",
     "output_type": "stream",
     "text": [
      "0 9 4\n",
      "5 9 7\n"
     ]
    },
    {
     "data": {
      "text/plain": [
       "7"
      ]
     },
     "execution_count": 62,
     "metadata": {},
     "output_type": "execute_result"
    }
   ],
   "source": [
    "binarySearch_Rec(inp, 98,0,len(inp)-1)"
   ]
  },
  {
   "cell_type": "code",
   "execution_count": null,
   "metadata": {},
   "outputs": [],
   "source": []
  },
  {
   "cell_type": "code",
   "execution_count": null,
   "metadata": {},
   "outputs": [],
   "source": []
  }
 ],
 "metadata": {
  "kernelspec": {
   "display_name": "Python 3",
   "language": "python",
   "name": "python3"
  },
  "language_info": {
   "codemirror_mode": {
    "name": "ipython",
    "version": 3
   },
   "file_extension": ".py",
   "mimetype": "text/x-python",
   "name": "python",
   "nbconvert_exporter": "python",
   "pygments_lexer": "ipython3",
   "version": "3.7.4"
  }
 },
 "nbformat": 4,
 "nbformat_minor": 2
}
