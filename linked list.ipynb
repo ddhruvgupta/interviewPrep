{
 "cells": [
  {
   "cell_type": "code",
   "execution_count": 2,
   "metadata": {},
   "outputs": [],
   "source": [
    "class node:\n",
    "    def __init__(self, data = None):\n",
    "        self.data = data\n",
    "        self.next = None\n",
    "        "
   ]
  },
  {
   "cell_type": "code",
   "execution_count": 19,
   "metadata": {},
   "outputs": [],
   "source": [
    "class linkedlist:\n",
    "    \n",
    "    def __init__(self):\n",
    "        self.head = None\n",
    "        self.tail = None\n",
    "        self.size = 0\n",
    "    \n",
    "    def append(self,data):\n",
    "        if self.head == None:\n",
    "            self.head = node(data)\n",
    "            self.tail = self.head\n",
    "        else:\n",
    "            self.tail.next = node(data)\n",
    "            self.tail = self.tail.next\n",
    "            \n",
    "        self.size = self.size + 1\n",
    "        \n",
    "    def print(self):\n",
    "        curr = self.head\n",
    "        \n",
    "        while(curr!=None):\n",
    "            print(str(curr.data) + \"->\", end =\" \")\n",
    "            curr = curr.next\n",
    "            \n",
    "\n",
    "        print(None)\n",
    "            "
   ]
  },
  {
   "cell_type": "code",
   "execution_count": 21,
   "metadata": {},
   "outputs": [
    {
     "name": "stdout",
     "output_type": "stream",
     "text": [
      "1-> 2-> None\n"
     ]
    }
   ],
   "source": [
    "ll = linkedlist()\n",
    "ll.append(1)\n",
    "ll.append(2)\n",
    "ll.print()"
   ]
  },
  {
   "cell_type": "code",
   "execution_count": null,
   "metadata": {},
   "outputs": [],
   "source": []
  }
 ],
 "metadata": {
  "kernelspec": {
   "display_name": "Python 3",
   "language": "python",
   "name": "python3"
  },
  "language_info": {
   "codemirror_mode": {
    "name": "ipython",
    "version": 3
   },
   "file_extension": ".py",
   "mimetype": "text/x-python",
   "name": "python",
   "nbconvert_exporter": "python",
   "pygments_lexer": "ipython3",
   "version": "3.7.4"
  }
 },
 "nbformat": 4,
 "nbformat_minor": 2
}
