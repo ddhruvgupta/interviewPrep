{
 "cells": [
  {
   "cell_type": "code",
   "execution_count": 8,
   "metadata": {},
   "outputs": [],
   "source": [
    "arr = [60,100,105,88,98,77,12,16,0,25,] "
   ]
  },
  {
   "cell_type": "markdown",
   "metadata": {},
   "source": [
    "# insertion sort\n",
    "compare element 1 with all the elements and swap is the element is smaller or larger"
   ]
  },
  {
   "cell_type": "code",
   "execution_count": 9,
   "metadata": {},
   "outputs": [
    {
     "name": "stdout",
     "output_type": "stream",
     "text": [
      "[0, 12, 16, 25, 60, 77, 88, 98, 100, 105]\n"
     ]
    }
   ],
   "source": [
    "def insertionSort(arr):\n",
    "    for i in range(len(arr)):\n",
    "        for j in range(i+1,len(arr)):\n",
    "            if arr[i] > arr[j]:\n",
    "                swap(arr, i, j)\n",
    "                \n",
    "def swap(arr, i , j):\n",
    "    temp = arr[i]\n",
    "    arr[i] = arr[j]\n",
    "    arr[j] = temp\n",
    "    \n",
    "    \n",
    "insertionSort(arr)\n",
    "print(arr)"
   ]
  },
  {
   "cell_type": "markdown",
   "metadata": {},
   "source": [
    "# bubble sort\n",
    "compare each pair of consecutive elements"
   ]
  },
  {
   "cell_type": "code",
   "execution_count": 12,
   "metadata": {},
   "outputs": [
    {
     "name": "stdout",
     "output_type": "stream",
     "text": [
      "[60, 100, 105, 88, 98, 77, 12, 16, 0, 25]\n",
      "[0, 12, 16, 25, 60, 77, 88, 98, 100, 105]\n"
     ]
    }
   ],
   "source": [
    "arr = [60,100,105,88,98,77,12,16,0,25,] \n",
    "print(arr)\n",
    "def bubbleSort(arr):\n",
    "    for i in range(1,len(arr)):\n",
    "        for j in range(len(arr)-i):\n",
    "            if arr[j] > arr[j+1]:\n",
    "                swap(arr,j,j+1)\n",
    "             \n",
    "bubbleSort(arr)\n",
    "print(arr)"
   ]
  },
  {
   "cell_type": "markdown",
   "metadata": {},
   "source": [
    "# selection sort\n",
    "\n",
    "The algorithm maintains two subarrays in a given array.\n",
    "\n",
    "1) The subarray which is already sorted.\n",
    "2) Remaining subarray which is unsorted."
   ]
  },
  {
   "cell_type": "code",
   "execution_count": 13,
   "metadata": {},
   "outputs": [
    {
     "name": "stdout",
     "output_type": "stream",
     "text": [
      "Sorted array\n",
      "11\n",
      "12\n",
      "22\n",
      "25\n",
      "64\n"
     ]
    }
   ],
   "source": [
    "# Sort \n",
    "import sys \n",
    "A = [64, 25, 12, 22, 11] \n",
    "  \n",
    "# Traverse through all array elements \n",
    "for i in range(len(A)): \n",
    "      \n",
    "    # Find the minimum element in remaining  \n",
    "    # unsorted array \n",
    "    min_idx = i \n",
    "    for j in range(i+1, len(A)): \n",
    "        if A[min_idx] > A[j]: \n",
    "            min_idx = j \n",
    "              \n",
    "    # Swap the found minimum element with  \n",
    "    # the first element         \n",
    "    A[i], A[min_idx] = A[min_idx], A[i] \n",
    "  \n",
    "# Driver code to test above \n",
    "print (\"Sorted array\") \n",
    "for i in range(len(A)): \n",
    "    print(\"%d\" %A[i]),  \n",
    "\n"
   ]
  },
  {
   "cell_type": "markdown",
   "metadata": {},
   "source": [
    "# merge sort"
   ]
  },
  {
   "cell_type": "code",
   "execution_count": 18,
   "metadata": {},
   "outputs": [
    {
     "name": "stdout",
     "output_type": "stream",
     "text": [
      "[60, 100, 105, 88, 98, 77, 12, 16, 0, 25]\n",
      "[60, 100, 105, 88, 98]\n",
      "[60, 100]\n",
      "[60]\n",
      "[100]\n",
      "[105, 88, 98]\n",
      "[105]\n",
      "[88, 98]\n",
      "[88]\n",
      "[98]\n",
      "[77, 12, 16, 0, 25]\n",
      "[77, 12]\n",
      "[77]\n",
      "[12]\n",
      "[16, 0, 25]\n",
      "[16]\n",
      "[0, 25]\n",
      "[0]\n",
      "[25]\n",
      "[0, 12, 16, 25, 60, 77, 88, 98, 100, 105]\n"
     ]
    }
   ],
   "source": [
    "arr = [60,100,105,88,98,77,12,16,0,25,] \n",
    "def mergeSort(arr):\n",
    "    print(arr)\n",
    "    if len(arr)>1:\n",
    "        mid = len(arr)//2\n",
    "        left = arr[:mid]\n",
    "        right = arr[mid:]\n",
    "        \n",
    "        mergeSort(left)\n",
    "        mergeSort(right)\n",
    "        \n",
    "        l = r = pos = 0\n",
    "\n",
    "        while l < len(left) and r < len(right):\n",
    "            if left[l] < right[r]:\n",
    "                arr[pos] = left[l]\n",
    "                pos+=1\n",
    "                l+=1\n",
    "            elif left[l] > right[r]:\n",
    "                arr[pos] = right[r]\n",
    "                pos += 1\n",
    "                r += 1\n",
    "\n",
    "        while l < len(left) :\n",
    "            arr[pos] = left[l]\n",
    "            pos+=1\n",
    "            l+=1\n",
    "        while r < len(right):\n",
    "            arr[pos] = right[r]\n",
    "            pos += 1\n",
    "            r += 1\n",
    "        \n",
    "        \n",
    "        \n",
    "mergeSort(arr)\n",
    "print(arr)"
   ]
  },
  {
   "cell_type": "markdown",
   "metadata": {},
   "source": [
    "# quick sort"
   ]
  },
  {
   "cell_type": "code",
   "execution_count": 19,
   "metadata": {},
   "outputs": [
    {
     "name": "stdout",
     "output_type": "stream",
     "text": [
      "[0, 12, 16, 25, 60, 77, 88, 98, 100, 105]\n"
     ]
    }
   ],
   "source": [
    "def quickSort(arr, low, high):\n",
    "    if low < high:\n",
    "        pi = partition(arr,low,high)\n",
    "        \n",
    "        quickSort(arr, low, pi-1)\n",
    "        quickSort(arr, pi+1, high)\n",
    "        \n",
    "def partition(arr, low, high):\n",
    "    pivot = arr[high]\n",
    "    i = low -1 \n",
    "    \n",
    "    for j in range(low,high):\n",
    "        if arr[j] < pivot:\n",
    "            i +=1\n",
    "            arr[i],arr[j] = arr[j],arr[i]\n",
    "    \n",
    "    #put the pivot into the right place\n",
    "    arr[i+1],arr[high] = arr[high], arr[i+1]\n",
    "    return (i+1)\n",
    "        \n",
    "arr = [60,100,105,88,98,77,12,16,0,25,] \n",
    "low = 0\n",
    "high = len(arr) - 1\n",
    "quickSort(arr,low,high)\n",
    "print(arr)"
   ]
  },
  {
   "cell_type": "markdown",
   "metadata": {},
   "source": [
    "# radix sort"
   ]
  },
  {
   "cell_type": "code",
   "execution_count": null,
   "metadata": {},
   "outputs": [],
   "source": [
    "def countingSort(arr, exp1): \n",
    "  \n",
    "    n = len(arr) \n",
    "  \n",
    "    # The output array elements that will have sorted arr \n",
    "    output = [0] * (n) \n",
    "  \n",
    "    # initialize count array as 0 \n",
    "    count = [0] * (10) \n",
    "  \n",
    "    # Store count of occurrences in count[] \n",
    "    for i in range(0, n): \n",
    "        index = (arr[i]/exp1) \n",
    "        count[ (index)%10 ] += 1\n",
    "  \n",
    "    # Change count[i] so that count[i] now contains actual \n",
    "    #  position of this digit in output array \n",
    "    for i in range(1,10): \n",
    "        count[i] += count[i-1] \n",
    "  \n",
    "    # Build the output array \n",
    "    i = n-1\n",
    "    while i>=0: \n",
    "        index = (arr[i]/exp1) \n",
    "        output[ count[ (index)%10 ] - 1] = arr[i] \n",
    "        count[ (index)%10 ] -= 1\n",
    "        i -= 1\n",
    "  \n",
    "    # Copying the output array to arr[], \n",
    "    # so that arr now contains sorted numbers \n",
    "    i = 0\n",
    "    for i in range(0,len(arr)): \n",
    "        arr[i] = output[i] \n",
    "\n",
    "def radixSort(arr): \n",
    "  \n",
    "    # Find the maximum number to know number of digits \n",
    "    max1 = max(arr) \n",
    "  \n",
    "    # Do counting sort for every digit. Note that instead \n",
    "    # of passing digit number, exp is passed. exp is 10^i \n",
    "    # where i is current digit number \n",
    "    exp = 1\n",
    "    while max1/exp > 0: \n",
    "        countingSort(arr,exp) \n",
    "        exp *= 10"
   ]
  }
 ],
 "metadata": {
  "kernelspec": {
   "display_name": "Python 3",
   "language": "python",
   "name": "python3"
  },
  "language_info": {
   "codemirror_mode": {
    "name": "ipython",
    "version": 3
   },
   "file_extension": ".py",
   "mimetype": "text/x-python",
   "name": "python",
   "nbconvert_exporter": "python",
   "pygments_lexer": "ipython3",
   "version": "3.7.4"
  }
 },
 "nbformat": 4,
 "nbformat_minor": 2
}
