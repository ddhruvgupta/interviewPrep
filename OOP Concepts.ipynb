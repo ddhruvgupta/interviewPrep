{
 "cells": [
  {
   "cell_type": "markdown",
   "metadata": {},
   "source": [
    " https://stackabuse.com/object-oriented-programming-in-python/\n",
    " \n",
    "\n",
    "\n",
    "## static method: ##\n",
    "do not need to create an instance of the class to call static method\n",
    "static methods can only access class attrivutes in python"
   ]
  },
  {
   "cell_type": "code",
   "execution_count": 3,
   "metadata": {},
   "outputs": [
    {
     "name": "stdout",
     "output_type": "stream",
     "text": [
      "This is a car class\n"
     ]
    }
   ],
   "source": [
    "class Car:\n",
    "\n",
    "    @staticmethod\n",
    "    def get_class_details():\n",
    "        print (\"This is a car class\")\n",
    "        \n",
    "Car.get_class_details()"
   ]
  },
  {
   "cell_type": "markdown",
   "metadata": {},
   "source": [
    "## Overide \"_ _str_ _ \"\n",
    "\n",
    "Every Python object has a __str__ method by default. When you use the object as a string, the __str__ method is called, which by default prints the memory location of the object. However, you can provide your own definition for the __str__ method as well. For instance, look at the following example:"
   ]
  },
  {
   "cell_type": "code",
   "execution_count": 1,
   "metadata": {},
   "outputs": [
    {
     "name": "stdout",
     "output_type": "stream",
     "text": [
      "Car class Object\n"
     ]
    }
   ],
   "source": [
    "class Car:\n",
    "\n",
    "    # create class methods\n",
    "\n",
    "    def __str__(self):\n",
    "        return \"Car class Object\"\n",
    "\n",
    "    def start(self):\n",
    "        print (\"Engine started\")\n",
    "\n",
    "car_a = Car()\n",
    "print(car_a)"
   ]
  },
  {
   "cell_type": "markdown",
   "metadata": {},
   "source": [
    "# Constructor #\n",
    "\n",
    "\n",
    "\n",
    "### Instance Attribute vs. Class Attribute: ###"
   ]
  },
  {
   "cell_type": "markdown",
   "metadata": {},
   "source": [
    "class Car:\n",
    "\n",
    "    # create class attributes\n",
    "    car_count = 0\n",
    "\n",
    "    # create class methods\n",
    "    def start(self, name, make, model):\n",
    "        print (\"Engine started\")\n",
    "        self.name = name\n",
    "        self.make = make\n",
    "        self.model = model\n",
    "        Car.car_count += 1"
   ]
  },
  {
   "cell_type": "markdown",
   "metadata": {},
   "source": [
    "In the script above, we create a Car class with one class attribute car_count. The class contains a constructor which increments the value of car_count and prints the resultant value on screen.\n",
    "\n",
    "Now, whenever an object of the Car class will be created the constructor will be called, the value of the car_count will be incremented and displayed on the screen. Let's create a simple object and see what happens:"
   ]
  },
  {
   "cell_type": "code",
   "execution_count": 5,
   "metadata": {},
   "outputs": [
    {
     "name": "stdout",
     "output_type": "stream",
     "text": [
      "1\n",
      "2\n",
      "3\n"
     ]
    }
   ],
   "source": [
    "class Car:\n",
    "\n",
    "    # create class attributes\n",
    "    car_count = 0\n",
    "\n",
    "    # create class methods\n",
    "    def __init__(self):\n",
    "        Car.car_count +=1\n",
    "        print(Car.car_count)\n",
    "\n",
    "car_a = Car()\n",
    "car_b = Car()\n",
    "car_c = Car()"
   ]
  },
  {
   "cell_type": "markdown",
   "metadata": {},
   "source": [
    "## Access Modifiers ##\n",
    "\n",
    "The access modifiers in Python are used to modify the default scope of variables. \n",
    "There are three types of access modifiers in Python: \n",
    "\n",
    "- public : public access modifiers can be accessed anywhere inside or outside the class\n",
    "- private : the private variables can only be accessed inside the class\n",
    "- protected: can be accessed within the same package\n",
    "\n",
    "To create a __private variable__, you need to prefix double underscores with the name of the variable. Eg. `__init`\n",
    "\n",
    "To create a __protected variable__, you need to prefix a single underscore with the variable name. Eg. `_name`\n",
    "\n",
    "For __public variables__, you do not have to add any prefixes at all."
   ]
  },
  {
   "cell_type": "code",
   "execution_count": 19,
   "metadata": {},
   "outputs": [
    {
     "name": "stdout",
     "output_type": "stream",
     "text": [
      "Engine started\n",
      "corolla\n"
     ]
    }
   ],
   "source": [
    "class Car:\n",
    "    def __init__(self):\n",
    "        print (\"Engine started\")\n",
    "        self.name = \"corolla\" #public\n",
    "        self.__make = \"toyota\" #private\n",
    "        self._model = 1999 #protected\n",
    "        \n",
    "car_a = Car()\n",
    "print(car_a.name)"
   ]
  },
  {
   "cell_type": "code",
   "execution_count": 22,
   "metadata": {},
   "outputs": [
    {
     "name": "stdout",
     "output_type": "stream",
     "text": [
      "1999\n"
     ]
    }
   ],
   "source": [
    "print(car_a._model)"
   ]
  },
  {
   "cell_type": "code",
   "execution_count": 23,
   "metadata": {},
   "outputs": [
    {
     "ename": "AttributeError",
     "evalue": "'Car' object has no attribute '__make'",
     "output_type": "error",
     "traceback": [
      "\u001b[1;31m---------------------------------------------------------------------------\u001b[0m",
      "\u001b[1;31mAttributeError\u001b[0m                            Traceback (most recent call last)",
      "\u001b[1;32m<ipython-input-23-558321afe1e4>\u001b[0m in \u001b[0;36m<module>\u001b[1;34m\u001b[0m\n\u001b[1;32m----> 1\u001b[1;33m \u001b[0mprint\u001b[0m\u001b[1;33m(\u001b[0m\u001b[0mcar_a\u001b[0m\u001b[1;33m.\u001b[0m\u001b[0m__make\u001b[0m\u001b[1;33m)\u001b[0m \u001b[1;31m#this will error\u001b[0m\u001b[1;33m\u001b[0m\u001b[1;33m\u001b[0m\u001b[0m\n\u001b[0m",
      "\u001b[1;31mAttributeError\u001b[0m: 'Car' object has no attribute '__make'"
     ]
    }
   ],
   "source": [
    "print(car_a.__make) #this will error"
   ]
  },
  {
   "cell_type": "markdown",
   "metadata": {},
   "source": [
    "pillars of the object-oriented programming: \n",
    "\n",
    "## __Polymorphism, Inheritance, and Encapsulation__ ## \n",
    "collectively referred to as PIE.\n",
    "\n"
   ]
  },
  {
   "cell_type": "markdown",
   "metadata": {},
   "source": [
    "- Inheritance\n",
    "In object-oriented programming, inheritance signifies an IS-A relation. For instance, a car is a vehicle. Inheritance is one of the most amazing concepts of object-oriented programming as it fosters code re-usability.\n",
    "\n",
    "The basic idea of inheritance in object-oriented programming is that a class can inherit the characteristics of another class. The class which inherits another class is called the child class or derived class, and the class which is inherited by another class is called parent or base class."
   ]
  },
  {
   "cell_type": "code",
   "execution_count": 9,
   "metadata": {},
   "outputs": [],
   "source": [
    "# Create Class Vehicle\n",
    "class Vehicle:\n",
    "    def vehicle_method(self):\n",
    "        print(\"This is parent Vehicle class method\")\n",
    "\n",
    "# Create Class Car that inherits Vehicle\n",
    "class Car(Vehicle):\n",
    "    def car_method(self):\n",
    "        print(\"This is child Car class method\")"
   ]
  },
  {
   "cell_type": "markdown",
   "metadata": {},
   "source": [
    "the Car class inherits the Vehicle class, it will also inherit the vehicle_method()"
   ]
  },
  {
   "cell_type": "code",
   "execution_count": 10,
   "metadata": {},
   "outputs": [
    {
     "name": "stdout",
     "output_type": "stream",
     "text": [
      "This is parent Vehicle class method\n"
     ]
    }
   ],
   "source": [
    "car_a = Car()\n",
    "car_a.vehicle_method() # Calling parent class method"
   ]
  },
  {
   "cell_type": "markdown",
   "metadata": {},
   "source": [
    "In Python, a parent class can have multiple children and similarly, a child class can have multiple parent classes. Let's take a look at the first scenario. Execute the following script:"
   ]
  },
  {
   "cell_type": "code",
   "execution_count": 11,
   "metadata": {},
   "outputs": [
    {
     "name": "stdout",
     "output_type": "stream",
     "text": [
      "This is parent Vehicle class method\n",
      "This is parent Vehicle class method\n"
     ]
    }
   ],
   "source": [
    "class Vehicle:\n",
    "    def vehicle_method(self):\n",
    "        print(\"This is parent Vehicle class method\")\n",
    "\n",
    "# Create Class Car that inherits Vehicle\n",
    "class Car(Vehicle):\n",
    "    def car_method(self):\n",
    "        print(\"This is child Car class method\")\n",
    "\n",
    "# Create Class Cycle that inherits Vehicle\n",
    "class Cycle(Vehicle):\n",
    "    def cycleMethod(self):\n",
    "        print(\"This is child Cycle class method\")\n",
    "        \n",
    "car_a = Car()\n",
    "car_a.vehicle_method() # Calling parent class method\n",
    "car_b = Cycle()\n",
    "car_b.vehicle_method() # Calling parent class method"
   ]
  },
  {
   "cell_type": "markdown",
   "metadata": {},
   "source": [
    "You can see how a parent class can be inherited by two child classes. In the same way, a child can have multiple parents. Let's take a look at the example:"
   ]
  },
  {
   "cell_type": "code",
   "execution_count": 12,
   "metadata": {},
   "outputs": [
    {
     "name": "stdout",
     "output_type": "stream",
     "text": [
      "This is parent Camera class method\n",
      "This is parent Radio class method\n"
     ]
    }
   ],
   "source": [
    "class Camera:\n",
    "    def camera_method(self):\n",
    "        print(\"This is parent Camera class method\")\n",
    "\n",
    "class Radio:\n",
    "    def radio_method(self):\n",
    "        print(\"This is parent Radio class method\")\n",
    "\n",
    "class CellPhone(Camera, Radio):\n",
    "     def cell_phone_method(self):\n",
    "        print(\"This is child CellPhone class method\")\n",
    "        \n",
    "cell_phone_a = CellPhone()\n",
    "cell_phone_a.camera_method()\n",
    "cell_phone_a.radio_method()"
   ]
  },
  {
   "cell_type": "markdown",
   "metadata": {},
   "source": [
    "## Polymorphism ## \n",
    "polymorphism refers to the ability of an object to behave in multiple ways\n",
    "\n",
    "Polymorphism in programming is implemented via method-overloading and method overriding.\n",
    "\n",
    "### Method Overloading ### \n",
    "Method overloading refers to the property of a method to behave in different ways depending upon the number or types of the parameters.\n",
    "\n",
    "\n"
   ]
  },
  {
   "cell_type": "code",
   "execution_count": 14,
   "metadata": {},
   "outputs": [
    {
     "name": "stdout",
     "output_type": "stream",
     "text": [
      "10\n",
      "30\n"
     ]
    }
   ],
   "source": [
    "# Creates class Car\n",
    "class Car:\n",
    "   def start(self, a, b=None):\n",
    "        if b is not None:\n",
    "            print (a + b)\n",
    "        else:\n",
    "            print (a)\n",
    "            \n",
    "car_a = Car()\n",
    "car_a.start(10)\n",
    "car_a.start(10,20)"
   ]
  },
  {
   "cell_type": "markdown",
   "metadata": {},
   "source": [
    "## Method Overriding ##\n",
    "\n",
    "Method overriding refers to having a method with the same name in the child class as in the parent class. The definition of the method differs in parent and child classes but the name remains the same. Let's take a simple example method overriding in Python."
   ]
  },
  {
   "cell_type": "code",
   "execution_count": 16,
   "metadata": {},
   "outputs": [
    {
     "name": "stdout",
     "output_type": "stream",
     "text": [
      "This is parent Vehicle class method\n",
      "This is child Car class method\n",
      "This is child Cycle class method\n"
     ]
    }
   ],
   "source": [
    "# Create Class Vehicle\n",
    "class Vehicle:\n",
    "    def print_details(self):\n",
    "        print(\"This is parent Vehicle class method\")\n",
    "\n",
    "# Create Class Car that inherits Vehicle\n",
    "class Car(Vehicle):\n",
    "    def print_details(self):\n",
    "        print(\"This is child Car class method\")\n",
    "\n",
    "# Create Class Cycle that inherits Vehicle\n",
    "class Cycle(Vehicle):\n",
    "    def print_details(self):\n",
    "        print(\"This is child Cycle class method\")\n",
    "        \n",
    "car_a = Vehicle()\n",
    "car_a. print_details()\n",
    "\n",
    "car_b = Car()\n",
    "car_b.print_details()\n",
    "\n",
    "car_c = Cycle()\n",
    "car_c.print_details()"
   ]
  },
  {
   "cell_type": "markdown",
   "metadata": {},
   "source": [
    "## Encapsulation ## \n",
    "\n",
    "one class should not have direct access to the __data of the other class__ . Rather, the access should be controlled via class methods.\n",
    "\n",
    "To provide controlled access to class data in Python, the access modifiers and properties are used. We have already seen access modifiers, in this section, we will see properties in action.\n",
    "\n",
    "there are 3 parts of a property: \n",
    "- attribute\n",
    "- @property decorator - defines property\n",
    "- @model.setter"
   ]
  },
  {
   "cell_type": "code",
   "execution_count": 24,
   "metadata": {},
   "outputs": [
    {
     "name": "stdout",
     "output_type": "stream",
     "text": [
      "The car model is 2018\n"
     ]
    }
   ],
   "source": [
    "# Creates class Car\n",
    "class Car:\n",
    "\n",
    "    # Creates Car class constructor\n",
    "    def __init__(self, model):\n",
    "        # initialize instance variables\n",
    "        self.model = model\n",
    "\n",
    "    # Creates model property\n",
    "    @property\n",
    "    def model(self):\n",
    "        return self.__model\n",
    "\n",
    "    # Create property setter\n",
    "    @model.setter\n",
    "    def model(self, model):\n",
    "        if model < 2000:\n",
    "            self.__model = 2000\n",
    "        elif model > 2018:\n",
    "            self.__model = 2018\n",
    "        else:\n",
    "            self.__model = model\n",
    "\n",
    "    def getCarModel(self):\n",
    "        return \"The car model is \" + str(self.model)\n",
    "    \n",
    "carA = Car(2088)\n",
    "print(carA.getCarModel())"
   ]
  },
  {
   "cell_type": "code",
   "execution_count": null,
   "metadata": {},
   "outputs": [],
   "source": []
  }
 ],
 "metadata": {
  "kernelspec": {
   "display_name": "Python 3",
   "language": "python",
   "name": "python3"
  },
  "language_info": {
   "codemirror_mode": {
    "name": "ipython",
    "version": 3
   },
   "file_extension": ".py",
   "mimetype": "text/x-python",
   "name": "python",
   "nbconvert_exporter": "python",
   "pygments_lexer": "ipython3",
   "version": "3.7.4"
  }
 },
 "nbformat": 4,
 "nbformat_minor": 2
}
