{
 "cells": [
  {
   "cell_type": "markdown",
   "metadata": {},
   "source": [
    "Connected Graph: each vertes is part of an edge\n",
    "\n",
    "disconnected graph: atleast 1 pair of vertices without path in between them\n",
    "\n",
    "complete graph: Each point is connected to every other point\n",
    "\n",
    "multigraph: allows multiple edges between the same set of vertices\n",
    "\n",
    "*Algorithms to practice:*\n",
    "- DFS\n",
    "- BFS\n",
    "- Topological Sort\n",
    "\n",
    "\n",
    "for disconnected graph call DFS on every node"
   ]
  },
  {
   "cell_type": "code",
   "execution_count": null,
   "metadata": {},
   "outputs": [],
   "source": [
    "class node:\n",
    "    def __init__(self,x):\n",
    "        self.val = x\n",
    "        self.next= None\n",
    "        \n",
    "    def setNext(self,x):\n",
    "        self.next = x"
   ]
  },
  {
   "cell_type": "markdown",
   "metadata": {},
   "source": [
    "# DFS"
   ]
  },
  {
   "cell_type": "code",
   "execution_count": 41,
   "metadata": {},
   "outputs": [],
   "source": [
    "from collections import defaultdict\n",
    "\n",
    "class graph:\n",
    "    def __init__(self):\n",
    "        self.graph = defaultdict(list)\n",
    "        self.visited = defaultdict()\n",
    "        \n",
    "    def addEdge(self,u,v):\n",
    "        self.graph[u].append(v)\n",
    "        self.visited[u] = False\n",
    "    \n",
    "        \n",
    "    def DFS(self,v, key):\n",
    "        if not self.visited[v]:\n",
    "            self.visited[v] = True\n",
    "            if v == key:\n",
    "                return True\n",
    "            \n",
    "            for ea in self.graph[v]:\n",
    "                temp = self.DFS(ea, key)\n",
    "                if temp: return True\n",
    "            return False\n",
    "        else: \n",
    "            return False\n",
    "    \n",
    "                \n",
    "    \n",
    "    def resetVisited(self):\n",
    "        for ea in self.visited.keys():\n",
    "            self.visited[ea] = False"
   ]
  },
  {
   "cell_type": "code",
   "execution_count": 42,
   "metadata": {},
   "outputs": [
    {
     "name": "stdout",
     "output_type": "stream",
     "text": [
      "Following is DFS from (starting from vertex 2)\n",
      "True\n"
     ]
    }
   ],
   "source": [
    "g = graph() \n",
    "g.addEdge(0, 1) \n",
    "g.addEdge(0, 2) \n",
    "g.addEdge(1, 2) \n",
    "g.addEdge(2, 0) \n",
    "g.addEdge(2, 3) \n",
    "g.addEdge(3, 3) \n",
    "  \n",
    "print(\"Following is DFS from (starting from vertex 2)\") \n",
    "ans = g.DFS(2, 1) \n",
    "print(ans)"
   ]
  },
  {
   "cell_type": "markdown",
   "metadata": {},
   "source": [
    "# BFS"
   ]
  },
  {
   "cell_type": "code",
   "execution_count": 38,
   "metadata": {},
   "outputs": [],
   "source": [
    "from collections import defaultdict\n",
    "\n",
    "class graph:\n",
    "    \n",
    "    def __init__(self):\n",
    "        self.graph = defaultdict(list)\n",
    "        self.visited = defaultdict()\n",
    "        self.levelOrderTraversal = []\n",
    "        \n",
    "    def addEdge(self,u,v):\n",
    "        self.graph[u].append(v)\n",
    "        self.visited[u] = False\n",
    "        self.visited[v] = False\n",
    "    \n",
    "        \n",
    "    def BFS(self, v):\n",
    "        #create queue for BFS\n",
    "        q = []\n",
    "        \n",
    "        # create queue and append current node, mark node as visited\n",
    "        q.append(v)\n",
    "#         self.visited[v] = True\n",
    "        \n",
    "        # process elements in the queue\n",
    "        \n",
    "        while q: \n",
    "            s = q.pop(0)\n",
    "            self.levelOrderTraversal.append(s)\n",
    "            \n",
    "            for i in self.graph[s]:\n",
    "                if not self.visited[i]:\n",
    "                    q.append(i)\n",
    "                    self.visited[i] = True\n",
    "                \n",
    "    \n",
    "    def resetVisited(self):\n",
    "        for ea in self.visited.keys():\n",
    "            self.visited[ea] = False"
   ]
  },
  {
   "cell_type": "code",
   "execution_count": 39,
   "metadata": {},
   "outputs": [
    {
     "name": "stdout",
     "output_type": "stream",
     "text": [
      "[70, 60, 50, 55, 30, 44, 22]\n"
     ]
    }
   ],
   "source": [
    "g = graph() \n",
    "g.addEdge(70, 60) \n",
    "g.addEdge(70, 50) \n",
    "g.addEdge(60, 55) \n",
    "g.addEdge(60, 30) \n",
    "g.addEdge(50, 44) \n",
    "g.addEdge(50, 22) \n",
    "g.BFS(70)\n",
    "\n",
    "print(g.levelOrderTraversal)"
   ]
  },
  {
   "cell_type": "code",
   "execution_count": 37,
   "metadata": {},
   "outputs": [
    {
     "name": "stdout",
     "output_type": "stream",
     "text": [
      "defaultdict(<class 'list'>, {70: [60, 50], 60: [55, 30], 50: [44, 22]})\n"
     ]
    }
   ],
   "source": [
    "print(g.graph)"
   ]
  },
  {
   "cell_type": "code",
   "execution_count": null,
   "metadata": {},
   "outputs": [],
   "source": []
  }
 ],
 "metadata": {
  "kernelspec": {
   "display_name": "Python 3",
   "language": "python",
   "name": "python3"
  },
  "language_info": {
   "codemirror_mode": {
    "name": "ipython",
    "version": 3
   },
   "file_extension": ".py",
   "mimetype": "text/x-python",
   "name": "python",
   "nbconvert_exporter": "python",
   "pygments_lexer": "ipython3",
   "version": "3.7.4"
  }
 },
 "nbformat": 4,
 "nbformat_minor": 2
}
