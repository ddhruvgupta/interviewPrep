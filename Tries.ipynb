{
 "cells": [
  {
   "cell_type": "markdown",
   "metadata": {},
   "source": [
    "Tries are useful for prefix match searches"
   ]
  },
  {
   "cell_type": "code",
   "execution_count": 8,
   "metadata": {},
   "outputs": [],
   "source": [
    "from collections import defaultdict\n",
    "\n",
    "class TrieNode:\n",
    "    \n",
    "    def __init__(self):\n",
    "        self.children = [None] * 26\n",
    "        self.isEndofWord = False\n",
    "    "
   ]
  },
  {
   "cell_type": "code",
   "execution_count": 13,
   "metadata": {},
   "outputs": [],
   "source": [
    "class Trie:\n",
    "    def __init__(self):\n",
    "        self.root = self.getNode()\n",
    "        \n",
    "    def getNode(self):\n",
    "        return TrieNode()\n",
    "    \n",
    "    def charToIndex(self, x):\n",
    "        return ord(x) - ord('a')\n",
    "    \n",
    "    def insert(self, key):\n",
    "        #look through the trie and match prefixes till divergence is found\n",
    "        # insert node at divergence\n",
    "        \n",
    "        pCrawl = self.root\n",
    "        length = len(key)\n",
    "        \n",
    "        for level in range(length):\n",
    "            index = self.charToIndex(key[level])\n",
    "            \n",
    "            if not pCrawl.children[index]:\n",
    "                pCrawl.children[index] = self.getNode()\n",
    "            pCrawl = pCrawl.children[index]\n",
    "            \n",
    "        pCrawl.isEndOfWord = True\n",
    "        \n",
    "    def search(self, key): \n",
    "        pCrawl = self.root\n",
    "        length = len(key)\n",
    "        \n",
    "        for level in range(length):\n",
    "            index = self.charToIndex(key[level])\n",
    "            if not pCrawl.children[index]:\n",
    "                return False\n",
    "            pCrawl = pCrawl.children[index]\n",
    "            \n",
    "        return pCrawl != None and pCrawl.isEndOfWord"
   ]
  },
  {
   "cell_type": "code",
   "execution_count": 14,
   "metadata": {},
   "outputs": [
    {
     "name": "stdout",
     "output_type": "stream",
     "text": [
      "the ---- Present in trie\n",
      "these ---- Not present in trie\n",
      "their ---- Present in trie\n",
      "thaw ---- Not present in trie\n"
     ]
    }
   ],
   "source": [
    "# driver function \n",
    "\n",
    "\n",
    "# Input keys (use only 'a' through 'z' and lower case) \n",
    "keys = [\"the\",\"a\",\"there\",\"anaswe\",\"any\", \n",
    "        \"by\",\"their\"] \n",
    "output = [\"Not present in trie\", \n",
    "          \"Present in trie\"] \n",
    "\n",
    "# Trie object \n",
    "t = Trie() \n",
    "\n",
    "# Construct trie \n",
    "for key in keys: \n",
    "    t.insert(key) \n",
    "\n",
    "# Search for different keys \n",
    "print(\"{} ---- {}\".format(\"the\",output[t.search(\"the\")])) \n",
    "print(\"{} ---- {}\".format(\"these\",output[t.search(\"these\")])) \n",
    "print(\"{} ---- {}\".format(\"their\",output[t.search(\"their\")])) \n",
    "print(\"{} ---- {}\".format(\"thaw\",output[t.search(\"thaw\")])) \n",
    "\n",
    "\n"
   ]
  },
  {
   "cell_type": "code",
   "execution_count": null,
   "metadata": {},
   "outputs": [],
   "source": []
  }
 ],
 "metadata": {
  "kernelspec": {
   "display_name": "Python 3",
   "language": "python",
   "name": "python3"
  },
  "language_info": {
   "codemirror_mode": {
    "name": "ipython",
    "version": 3
   },
   "file_extension": ".py",
   "mimetype": "text/x-python",
   "name": "python",
   "nbconvert_exporter": "python",
   "pygments_lexer": "ipython3",
   "version": "3.7.4"
  }
 },
 "nbformat": 4,
 "nbformat_minor": 2
}
