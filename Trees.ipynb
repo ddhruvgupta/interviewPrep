{
 "cells": [
  {
   "cell_type": "code",
   "execution_count": 13,
   "metadata": {},
   "outputs": [],
   "source": [
    "class TreeNode:\n",
    "    def __init__(self, x):\n",
    "        self.val = x\n",
    "        self.left = None\n",
    "        self.right = None\n",
    "    \n",
    "    def print(self):\n",
    "        print([self.left,self.val,self.right])\n"
   ]
  },
  {
   "cell_type": "code",
   "execution_count": 14,
   "metadata": {},
   "outputs": [],
   "source": [
    "class Solution:\n",
    "    \n",
    "    arr = list()\n",
    "    \n",
    "\n",
    "    \n",
    "    def isSymmetric(self, root: TreeNode) -> bool:\n",
    "        \n",
    "        if root == None:\n",
    "            return None\n",
    "        \n",
    "        # carry out inorder traversal and create list with values of the tree\n",
    "        self.inOrder(root)\n",
    "        print(arr)\n",
    "        \n",
    "        return True\n",
    "    \n",
    "    \n",
    "    def inOrder(self, node:TreeNode):\n",
    "        if node != None:\n",
    "            inorder(node.left)\n",
    "            self.arr.append(node.val)\n",
    "            inorder(node.right)"
   ]
  },
  {
   "cell_type": "code",
   "execution_count": 18,
   "metadata": {},
   "outputs": [],
   "source": [
    "arr = [1,2,2,3,4,4,3]\n",
    "\n",
    "treelist = []\n",
    "for ea in arr: \n",
    "    treelist.append(TreeNode(ea))\n",
    "    \n",
    "for i in range(len(arr)):\n",
    "    treelist[i]\n",
    "    \n",
    "root = TreeNode(arr[0])\n",
    "i=0\n",
    "while i <len(arr):\n",
    "    \n",
    "    if 2*i+1< len(arr):\n",
    "        root.left = TreeNode(arr[2*i+1])\n",
    "    else:\n",
    "        root.left = None\n",
    "        \n",
    "    if 2*i+2 < len(arr):\n",
    "        root.right = TreeNode(arr[2*i+2])\n",
    "    else:\n",
    "        root.right = None\n",
    "            \n",
    "    i+=1"
   ]
  },
  {
   "cell_type": "code",
   "execution_count": 19,
   "metadata": {},
   "outputs": [
    {
     "name": "stdout",
     "output_type": "stream",
     "text": [
      "[None, 1, None]\n"
     ]
    }
   ],
   "source": [
    "root.print()"
   ]
  },
  {
   "cell_type": "code",
   "execution_count": null,
   "metadata": {},
   "outputs": [],
   "source": []
  }
 ],
 "metadata": {
  "kernelspec": {
   "display_name": "Python 3",
   "language": "python",
   "name": "python3"
  },
  "language_info": {
   "codemirror_mode": {
    "name": "ipython",
    "version": 3
   },
   "file_extension": ".py",
   "mimetype": "text/x-python",
   "name": "python",
   "nbconvert_exporter": "python",
   "pygments_lexer": "ipython3",
   "version": "3.7.4"
  }
 },
 "nbformat": 4,
 "nbformat_minor": 2
}
